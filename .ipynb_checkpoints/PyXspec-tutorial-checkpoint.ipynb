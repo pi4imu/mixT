{
 "cells": [
  {
   "cell_type": "code",
   "execution_count": 1,
   "id": "8060a4fd",
   "metadata": {},
   "outputs": [],
   "source": [
    "import xspec as x\n",
    "\n",
    "#import sys\n",
    "#sys.path"
   ]
  },
  {
   "cell_type": "markdown",
   "id": "ec74078a",
   "metadata": {},
   "source": [
    "Python can't find ``xspec`` module? Try ``heainit`` before launching Jupyter Notebook."
   ]
  },
  {
   "cell_type": "markdown",
   "id": "9f0fe2ba",
   "metadata": {},
   "source": [
    "Also there is a little problem with kernels. Try ``jupyter kernelspec list``. \n",
    "\n",
    "It should be ``/usr/local/share/jupyter/kernels/python3``, I suppose."
   ]
  },
  {
   "cell_type": "code",
   "execution_count": 2,
   "id": "bb9fcc2e",
   "metadata": {},
   "outputs": [],
   "source": [
    "#!jupyter kernelspec list"
   ]
  },
  {
   "cell_type": "markdown",
   "id": "b839402e",
   "metadata": {},
   "source": [
    "There is no output for `xspec` in this notebook. Somehow it is shown in terminal if you put `ciao` after `heainit`. "
   ]
  },
  {
   "cell_type": "code",
   "execution_count": 3,
   "id": "af4194b0",
   "metadata": {
    "tags": [
     "{",
     "\"tags\":",
     "[",
     "\"hide-input\"",
     "]",
     "}"
    ]
   },
   "outputs": [],
   "source": [
    "x.AllModels.show()"
   ]
  },
  {
   "cell_type": "markdown",
   "id": "766c2ae4",
   "metadata": {},
   "source": [
    "Setting detalization."
   ]
  },
  {
   "cell_type": "code",
   "execution_count": 4,
   "id": "976cbdff",
   "metadata": {},
   "outputs": [],
   "source": [
    "x.AllData.removeDummyrsp()\n",
    "x.AllData.dummyrsp(lowE=0.1, highE=50.0, nBins=1024)\n",
    "#, scaleType=None, chanOffset=None, chanWidth=None)"
   ]
  },
  {
   "cell_type": "code",
   "execution_count": 5,
   "id": "ecbc4037",
   "metadata": {},
   "outputs": [],
   "source": [
    "T_minnn = 1.0\n",
    "T_maxxx = 2.0\n",
    "f_minnn = 0.2\n",
    "f_maxxx = 1-f_minnn"
   ]
  },
  {
   "cell_type": "markdown",
   "id": "7efdf4c5",
   "metadata": {},
   "source": [
    "### lines2fit"
   ]
  },
  {
   "cell_type": "markdown",
   "id": "526788d4",
   "metadata": {},
   "source": [
    "**lines2fit.xcm** describes model of line-dominated 2-component spectra with absorption. "
   ]
  },
  {
   "cell_type": "code",
   "execution_count": 6,
   "id": "ac27906c",
   "metadata": {},
   "outputs": [],
   "source": [
    "mod = x.Model('phabs*(const*(apec+const*apec)+const*(apec+const*apec))')"
   ]
  },
  {
   "cell_type": "markdown",
   "id": "cbedf1ed",
   "metadata": {},
   "source": [
    "First ``apec`` in both terms has abundance equal to 1.0, second has zero abundance. It is worth to mention that this approach doesn't differ much from only one ``apec`` with 1.0 abundance (check **lines2fit_Z1.xcm**)."
   ]
  },
  {
   "cell_type": "code",
   "execution_count": 7,
   "id": "e5d90a3d",
   "metadata": {},
   "outputs": [],
   "source": [
    "mod.setPars(0.01, f_minnn, T_minnn, 1.0, 0, 1, 1., T_minnn, 0.0, 0, 1, f_maxxx, T_maxxx, 1.0, 0, 1, 1., T_maxxx, 0, 0, 1)\n",
    "#x.AllModels.show()"
   ]
  },
  {
   "cell_type": "markdown",
   "id": "282f454f",
   "metadata": {},
   "source": [
    "To subtract continuum part we set 2nd and 4th constants to \"-1\"."
   ]
  },
  {
   "cell_type": "code",
   "execution_count": 8,
   "id": "ae35efff",
   "metadata": {},
   "outputs": [],
   "source": [
    "mod(7).values =  \"-1, 0.0001, -1, -1, 1, 1\"\n",
    "mod(17).values = \"-1, 0.0001, -1, -1, 1, 1\""
   ]
  },
  {
   "cell_type": "markdown",
   "id": "73e558c0",
   "metadata": {},
   "source": [
    "Next is not necessary, but I link ``kT`` and ``Redshift`` parameters in both `apec`."
   ]
  },
  {
   "cell_type": "code",
   "execution_count": 9,
   "id": "3ca17f1b",
   "metadata": {},
   "outputs": [],
   "source": [
    "mod(8).link = \"3\"\n",
    "mod(18).link = \"13\"\n",
    "mod(10).link = \"5\"\n",
    "mod(20).link = \"15\""
   ]
  },
  {
   "cell_type": "code",
   "execution_count": 10,
   "id": "5130c074",
   "metadata": {},
   "outputs": [],
   "source": [
    "x.AllModels.show()"
   ]
  },
  {
   "cell_type": "code",
   "execution_count": 11,
   "id": "3dba9b92",
   "metadata": {},
   "outputs": [],
   "source": [
    "x.Plot.device = \"/xs\""
   ]
  },
  {
   "cell_type": "code",
   "execution_count": 12,
   "id": "5cf20999",
   "metadata": {},
   "outputs": [
    {
     "name": "stdout",
     "output_type": "stream",
     "text": [
      "\n",
      "User entered plot commands:\n"
     ]
    }
   ],
   "source": [
    "x.Plot.show()\n",
    "\n",
    "#x.Plot.xLog = True\n",
    "#x.Plot.yLog = True\n",
    "x.Plot.xAxis = \"keV\"\n",
    "#x.Plot(\"ufspec\")\n",
    "x.Plot(\"model\")"
   ]
  },
  {
   "cell_type": "markdown",
   "id": "5d26b1e2",
   "metadata": {},
   "source": [
    "## fakeit"
   ]
  },
  {
   "cell_type": "markdown",
   "id": "590dba46",
   "metadata": {},
   "source": [
    "Generating fake spectrum based on Chandra/eROSITA RMF&ARF."
   ]
  },
  {
   "cell_type": "code",
   "execution_count": 14,
   "id": "ecf8a79e",
   "metadata": {},
   "outputs": [],
   "source": [
    "x.AllData.dummyrsp(lowE=0.1, highE=50.0, nBins=1024)#, scaleType=None, chanOffset=None, chanWidth=None)"
   ]
  },
  {
   "cell_type": "code",
   "execution_count": 15,
   "id": "5c14b7b6",
   "metadata": {},
   "outputs": [],
   "source": [
    "fs = x.FakeitSettings(response = 'telescopes/chandra/djs50.ugc3957_v05.rmf', \n",
    "                           arf = 'telescopes/chandra/djs50.ugc3957_v05.arf', \n",
    "                    background = '', \n",
    "                      exposure = '40000', \n",
    "                    correction = '', \n",
    "                  backExposure = '', \n",
    "                      fileName = 'fakeit.pha')"
   ]
  },
  {
   "cell_type": "code",
   "execution_count": 16,
   "id": "d18af9ec",
   "metadata": {},
   "outputs": [],
   "source": [
    "x.AllData.fakeit(nSpectra = 1, \n",
    "                 settings = fs, \n",
    "               applyStats = True,\n",
    "               filePrefix = \"\",\n",
    "                  noWrite = True)"
   ]
  },
  {
   "cell_type": "code",
   "execution_count": 17,
   "id": "d8b44c3d",
   "metadata": {},
   "outputs": [],
   "source": [
    "x.AllData.show()"
   ]
  },
  {
   "cell_type": "markdown",
   "id": "54e51602",
   "metadata": {},
   "source": [
    "Setting an energy \"window\":"
   ]
  },
  {
   "cell_type": "code",
   "execution_count": 20,
   "id": "ece35578",
   "metadata": {},
   "outputs": [],
   "source": [
    "x.AllData.ignore(\"**-0.1 10.-**\")"
   ]
  },
  {
   "cell_type": "code",
   "execution_count": 21,
   "id": "a2ff38f6",
   "metadata": {},
   "outputs": [],
   "source": [
    "x.Plot.xAxis = \"keV\"\n",
    "#x.Plot(\"data\")"
   ]
  },
  {
   "cell_type": "code",
   "execution_count": 24,
   "id": "c284162c",
   "metadata": {},
   "outputs": [],
   "source": [
    "x.AllData.show()"
   ]
  },
  {
   "cell_type": "code",
   "execution_count": 23,
   "id": "db9199cf",
   "metadata": {},
   "outputs": [],
   "source": [
    "x.Plot(\"model ldata resid\")"
   ]
  },
  {
   "cell_type": "markdown",
   "id": "4cf708d8",
   "metadata": {},
   "source": [
    "### Fitting"
   ]
  },
  {
   "cell_type": "code",
   "execution_count": 34,
   "id": "80341000",
   "metadata": {},
   "outputs": [],
   "source": [
    "mod2fit = x.Model(\"wabs*(apec+const*apec)\")\n",
    "mod2fit.setPars(0.01, 1.0, 1.0, 0., 1, 1, 1., 0.0, 0.0, 1)"
   ]
  },
  {
   "cell_type": "code",
   "execution_count": 35,
   "id": "57749846",
   "metadata": {},
   "outputs": [],
   "source": [
    "mod2fit(6).values = \"-1, 0.0001, -1, -1, 1, 1\"\n",
    "mod2fit(7).link = \"2\"\n",
    "mod2fit(9).link = \"4\""
   ]
  },
  {
   "cell_type": "code",
   "execution_count": 36,
   "id": "12fe8602",
   "metadata": {},
   "outputs": [],
   "source": [
    "x.AllModels.show()"
   ]
  },
  {
   "cell_type": "code",
   "execution_count": 37,
   "id": "24e60427",
   "metadata": {},
   "outputs": [],
   "source": [
    "x.Fit.nIterations = 100\n",
    "x.Fit.query = 'yes'\n",
    "x.Fit.perform()\n",
    "x.Fit.show()"
   ]
  },
  {
   "cell_type": "code",
   "execution_count": 38,
   "id": "175f987d",
   "metadata": {},
   "outputs": [],
   "source": [
    "x.Plot(\"model ldata resid\")"
   ]
  },
  {
   "cell_type": "code",
   "execution_count": 39,
   "id": "2e37c9e4",
   "metadata": {},
   "outputs": [],
   "source": [
    "x.AllModels.show()"
   ]
  },
  {
   "cell_type": "code",
   "execution_count": 42,
   "id": "9c335800",
   "metadata": {},
   "outputs": [],
   "source": [
    "x.Fit.show()"
   ]
  },
  {
   "cell_type": "code",
   "execution_count": 43,
   "id": "6d24d3e8",
   "metadata": {},
   "outputs": [
    {
     "data": {
      "text/plain": [
       "153331.00432123692"
      ]
     },
     "execution_count": 43,
     "metadata": {},
     "output_type": "execute_result"
    }
   ],
   "source": [
    "x.Fit.statistic"
   ]
  },
  {
   "cell_type": "code",
   "execution_count": 55,
   "id": "0358516b",
   "metadata": {},
   "outputs": [],
   "source": [
    "best_kT = mod2fit(2).values[0]"
   ]
  },
  {
   "cell_type": "code",
   "execution_count": 56,
   "id": "6f97a3fe",
   "metadata": {},
   "outputs": [
    {
     "name": "stdout",
     "output_type": "stream",
     "text": [
      "1.2467057507387806\n"
     ]
    }
   ],
   "source": [
    "print(best_kT)"
   ]
  },
  {
   "cell_type": "code",
   "execution_count": null,
   "id": "eb95fad0",
   "metadata": {},
   "outputs": [],
   "source": []
  }
 ],
 "metadata": {
  "celltoolbar": "Необработанный формат ячейки",
  "kernelspec": {
   "display_name": "Python 3",
   "language": "python",
   "name": "python3"
  },
  "language_info": {
   "codemirror_mode": {
    "name": "ipython",
    "version": 3
   },
   "file_extension": ".py",
   "mimetype": "text/x-python",
   "name": "python",
   "nbconvert_exporter": "python",
   "pygments_lexer": "ipython3",
   "version": "3.8.8"
  }
 },
 "nbformat": 4,
 "nbformat_minor": 5
}
