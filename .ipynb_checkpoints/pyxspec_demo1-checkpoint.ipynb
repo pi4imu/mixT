{
 "cells": [
  {
   "cell_type": "markdown",
   "metadata": {},
   "source": [
    "# Example on using pyXspec to fit a spectrum\n",
    "\n",
    "It is a very simple example on using pyXspec. We'll use Kepler SNR observation with XMM-Newton.\n"
   ]
  },
  {
   "cell_type": "code",
   "execution_count": 2,
   "metadata": {},
   "outputs": [
    {
     "ename": "ModuleNotFoundError",
     "evalue": "No module named 'xspec'",
     "output_type": "error",
     "traceback": [
      "\u001b[0;31m---------------------------------------------------------------------------\u001b[0m",
      "\u001b[0;31mModuleNotFoundError\u001b[0m                       Traceback (most recent call last)",
      "Input \u001b[0;32mIn [2]\u001b[0m, in \u001b[0;36m<module>\u001b[0;34m\u001b[0m\n\u001b[1;32m      1\u001b[0m \u001b[38;5;28;01mimport\u001b[39;00m \u001b[38;5;21;01mos\u001b[39;00m\n\u001b[0;32m----> 2\u001b[0m \u001b[38;5;28;01mimport\u001b[39;00m \u001b[38;5;21;01mxspec\u001b[39;00m\n\u001b[1;32m      4\u001b[0m \u001b[38;5;28;01mfrom\u001b[39;00m \u001b[38;5;21;01mdatetime\u001b[39;00m \u001b[38;5;28;01mimport\u001b[39;00m datetime\n\u001b[1;32m      6\u001b[0m \u001b[38;5;28;01mfrom\u001b[39;00m \u001b[38;5;21;01mastropy\u001b[39;00m\u001b[38;5;21;01m.\u001b[39;00m\u001b[38;5;21;01mio\u001b[39;00m \u001b[38;5;28;01mimport\u001b[39;00m fits\n",
      "\u001b[0;31mModuleNotFoundError\u001b[0m: No module named 'xspec'"
     ]
    }
   ],
   "source": [
    "import os\n",
    "import xspec\n",
    "\n",
    "from datetime import datetime\n",
    "\n",
    "from astropy.io import fits\n",
    "from astropy import units as u\n",
    "from astropy.constants import b_wien\n",
    "\n",
    "import pandas as pd\n",
    "\n",
    "%matplotlib inline\n",
    "import matplotlib.pylab as plt\n",
    "import seaborn as sns\n",
    "sns.set(style=\"white\")\n",
    "\n",
    "plt.rc('text', usetex=False)\n",
    "plt.rc('font', family='serif')"
   ]
  },
  {
   "cell_type": "code",
   "execution_count": 2,
   "metadata": {},
   "outputs": [],
   "source": [
    "home = os.path.expanduser('~')\n",
    "#\n",
    "wdir = f'{home}/Dropbox/Work/XMM/energy_scale_works'\n",
    "spec_dir = f\"{wdir}/Kepler/0084100101\"\n",
    "spec_file = f\"{spec_dir}/pn_spectrum_grp0.fits\"\n",
    "#\n",
    "# need to go to the spec dir to read the arf and rmf files\n",
    "# first, store the current wd to get back to it at the end\n",
    "#\n",
    "current = os.getcwd()\n",
    "os.chdir(spec_dir)"
   ]
  },
  {
   "cell_type": "code",
   "execution_count": 3,
   "metadata": {},
   "outputs": [],
   "source": [
    "logfile = xspec.Xset.openLog(f\"xspec.log\")\n",
    "\n",
    "try:\n",
    "    s = xspec.Spectrum(spec_file)\n",
    "except:\n",
    "    print (f\"Cannot read {spec_file} in XSPEC\")\n",
    "    raise Exception"
   ]
  },
  {
   "cell_type": "markdown",
   "metadata": {},
   "source": [
    "## Plot the spectrum using XSPEC and matplotlib"
   ]
  },
  {
   "cell_type": "code",
   "execution_count": 4,
   "metadata": {},
   "outputs": [
    {
     "name": "stdout",
     "output_type": "stream",
     "text": [
      "bbody ['kT', 'norm']\n",
      "gaussian ['LineE', 'Sigma', 'norm']\n"
     ]
    }
   ],
   "source": [
    "#model = xspec.Model(\"po + ga\")\n",
    "model = xspec.Model(\"bbody + ga\")\n",
    "#\n",
    "# initial parameters\n",
    "#\n",
    "ncomp = len(model.componentNames)\n",
    "for icomp in model.componentNames:\n",
    "    print (icomp,eval(f'model.{icomp}.parameterNames'))"
   ]
  },
  {
   "cell_type": "code",
   "execution_count": 5,
   "metadata": {},
   "outputs": [],
   "source": [
    "#\n",
    "# the BlackBody peak at 6.5  keV \n",
    "#\n",
    "# Wien's law, the temperature in kT units [keV] of a BB peaking at 6.5 keV\n",
    "#\n",
    "model.bbody.kT = 6.5/1.59362\n",
    "# and fix it\n",
    "model.bbody.kT.frozen = True\n",
    "#\n",
    "# initial sigma of the line is set to 50 eV, but can be between 1 and 100 eV\n",
    "model.gaussian.Sigma = [5.0e-2,0.001,1.0e-3,1.0e-3,1.0e-1,1.0e-1]\n",
    "#\n",
    "line_c = 6.4 # keV\n",
    "# set the initial line energy and the range where to lok for a C-stat minimum\n",
    "model.gaussian.LineE = [line_c,0.001,line_c-0.2,line_c-0.1,line_c+0.1,line_c+0.2]"
   ]
  },
  {
   "cell_type": "code",
   "execution_count": 6,
   "metadata": {},
   "outputs": [],
   "source": [
    "#\n",
    "# the fitting cell\n",
    "#\n",
    "xspec.Fit.statMethod = \"cstat\"\n",
    "xspec.Xset.abund = \"wilm\"\n",
    "#\n",
    "#\n",
    "# will constrain the spectrum in [4.5-8] keV\n",
    "#\n",
    "startE = 4.5 # keV\n",
    "endE = 8.0 # keV\n",
    "#\n",
    "s.notice(\"all\")\n",
    "s.ignore(f\"**-{startE} {endE}-**\")\n",
    "#"
   ]
  },
  {
   "cell_type": "code",
   "execution_count": 7,
   "metadata": {},
   "outputs": [],
   "source": [
    "model.show()"
   ]
  },
  {
   "cell_type": "code",
   "execution_count": 8,
   "metadata": {},
   "outputs": [],
   "source": [
    " \n",
    "cstat = xspec.Fit.statistic\n",
    "dof = xspec.Fit.dof\n",
    "chi2r = xspec.Fit.testStatistic/dof\n",
    "#xspec.Fit.error(\"2.706 3 6\")"
   ]
  },
  {
   "cell_type": "markdown",
   "metadata": {},
   "source": [
    "## Print the fit results\n",
    "\n",
    "The XSPEC output is stored in the log file but also in the stdout/stderr (notebok terminal). But there are methods to get them out of the Fit class.\n"
   ]
  },
  {
   "cell_type": "markdown",
   "metadata": {},
   "source": [
    "## Plotting the data and the model with XSPEC\n"
   ]
  },
  {
   "cell_type": "code",
   "execution_count": 9,
   "metadata": {},
   "outputs": [],
   "source": [
    "# plot in Xserver\n",
    "xspec.Plot.device = '/xs'\n",
    "# or save to postScript\n",
    "#xspec.Plot.device = f'{psfile}/cps'\n",
    "xspec.Plot.xAxis = \"keV\"\n",
    "xspec.Plot.setRebin(minSig=30.0,maxBins=4)\n",
    "#xspec.Plot.addCommand(\"viewport 0.2 0.2 0.9 0.9\")\n",
    "xspec.Plot.addCommand(\"csize 1.2\")\n",
    "xspec.Plot.addCommand(\"lwidth 4\")\n",
    "xspec.Plot.addCommand(\"rescale y 0.001 0.1\")\n",
    "xspec.Plot.addCommand(\"lab top \\\"Test plot\\\"\")\n",
    "xspec.Plot('ldata','ratio')\n"
   ]
  },
  {
   "cell_type": "code",
   "execution_count": 10,
   "metadata": {},
   "outputs": [
    {
     "name": "stdout",
     "output_type": "stream",
     "text": [
      "Plot command list is now empty\n"
     ]
    }
   ],
   "source": [
    "# reset the plot\n",
    "xspec.Plot.commands = ()"
   ]
  },
  {
   "cell_type": "markdown",
   "metadata": {},
   "source": [
    "## Plotting the data and the model with matplotlib\n",
    "\n",
    "The idea on how to plot the model components is from the XSPEC facebook group, idea from Andy Beardmore. Saving in QDP file.\n"
   ]
  },
  {
   "cell_type": "code",
   "execution_count": 11,
   "metadata": {},
   "outputs": [],
   "source": [
    "save_data = 'specfit.qdp'\n",
    "if (os.path.isfile(save_data)):\n",
    "    os.remove(save_data)\n",
    "# following Andy Beardmore idea\n",
    "xspec.Plot.device = '/null'\n",
    "xspec.Plot.add = True\n",
    "xspec.Plot.addCommand(f'wd {save_data}')\n",
    "xspec.Plot(\"ld\") \n",
    "#"
   ]
  },
  {
   "cell_type": "code",
   "execution_count": 12,
   "metadata": {},
   "outputs": [
    {
     "data": {
      "text/html": [
       "<div>\n",
       "<style scoped>\n",
       "    .dataframe tbody tr th:only-of-type {\n",
       "        vertical-align: middle;\n",
       "    }\n",
       "\n",
       "    .dataframe tbody tr th {\n",
       "        vertical-align: top;\n",
       "    }\n",
       "\n",
       "    .dataframe thead th {\n",
       "        text-align: right;\n",
       "    }\n",
       "</style>\n",
       "<table border=\"1\" class=\"dataframe\">\n",
       "  <thead>\n",
       "    <tr style=\"text-align: right;\">\n",
       "      <th></th>\n",
       "      <th>e</th>\n",
       "      <th>de</th>\n",
       "      <th>rate</th>\n",
       "      <th>rate_err</th>\n",
       "      <th>total</th>\n",
       "      <th>model0</th>\n",
       "      <th>model1</th>\n",
       "    </tr>\n",
       "  </thead>\n",
       "  <tbody>\n",
       "    <tr>\n",
       "      <th>0</th>\n",
       "      <td>4.5100</td>\n",
       "      <td>0.0100</td>\n",
       "      <td>0.018456</td>\n",
       "      <td>0.006395</td>\n",
       "      <td>0.004903</td>\n",
       "      <td>0.004756</td>\n",
       "      <td>0.000147</td>\n",
       "    </tr>\n",
       "    <tr>\n",
       "      <th>1</th>\n",
       "      <td>4.5300</td>\n",
       "      <td>0.0100</td>\n",
       "      <td>0.011073</td>\n",
       "      <td>0.005222</td>\n",
       "      <td>0.004947</td>\n",
       "      <td>0.004762</td>\n",
       "      <td>0.000185</td>\n",
       "    </tr>\n",
       "    <tr>\n",
       "      <th>2</th>\n",
       "      <td>4.5500</td>\n",
       "      <td>0.0100</td>\n",
       "      <td>0.016611</td>\n",
       "      <td>0.006123</td>\n",
       "      <td>0.004996</td>\n",
       "      <td>0.004768</td>\n",
       "      <td>0.000228</td>\n",
       "    </tr>\n",
       "    <tr>\n",
       "      <th>3</th>\n",
       "      <td>4.5700</td>\n",
       "      <td>0.0100</td>\n",
       "      <td>0.014767</td>\n",
       "      <td>0.005221</td>\n",
       "      <td>0.005049</td>\n",
       "      <td>0.004775</td>\n",
       "      <td>0.000274</td>\n",
       "    </tr>\n",
       "    <tr>\n",
       "      <th>4</th>\n",
       "      <td>4.5900</td>\n",
       "      <td>0.0100</td>\n",
       "      <td>0.007383</td>\n",
       "      <td>0.003692</td>\n",
       "      <td>0.005100</td>\n",
       "      <td>0.004782</td>\n",
       "      <td>0.000318</td>\n",
       "    </tr>\n",
       "    <tr>\n",
       "      <th>...</th>\n",
       "      <td>...</td>\n",
       "      <td>...</td>\n",
       "      <td>...</td>\n",
       "      <td>...</td>\n",
       "      <td>...</td>\n",
       "      <td>...</td>\n",
       "      <td>...</td>\n",
       "    </tr>\n",
       "    <tr>\n",
       "      <th>170</th>\n",
       "      <td>7.9100</td>\n",
       "      <td>0.0100</td>\n",
       "      <td>0.001846</td>\n",
       "      <td>0.001846</td>\n",
       "      <td>0.003077</td>\n",
       "      <td>0.003077</td>\n",
       "      <td>0.000000</td>\n",
       "    </tr>\n",
       "    <tr>\n",
       "      <th>171</th>\n",
       "      <td>7.9300</td>\n",
       "      <td>0.0100</td>\n",
       "      <td>0.003689</td>\n",
       "      <td>0.003693</td>\n",
       "      <td>0.003058</td>\n",
       "      <td>0.003058</td>\n",
       "      <td>0.000000</td>\n",
       "    </tr>\n",
       "    <tr>\n",
       "      <th>172</th>\n",
       "      <td>7.9500</td>\n",
       "      <td>0.0100</td>\n",
       "      <td>0.000000</td>\n",
       "      <td>0.000000</td>\n",
       "      <td>0.003039</td>\n",
       "      <td>0.003039</td>\n",
       "      <td>0.000000</td>\n",
       "    </tr>\n",
       "    <tr>\n",
       "      <th>173</th>\n",
       "      <td>7.9700</td>\n",
       "      <td>0.0100</td>\n",
       "      <td>-0.001848</td>\n",
       "      <td>0.001848</td>\n",
       "      <td>0.003022</td>\n",
       "      <td>0.003022</td>\n",
       "      <td>0.000000</td>\n",
       "    </tr>\n",
       "    <tr>\n",
       "      <th>174</th>\n",
       "      <td>7.9875</td>\n",
       "      <td>0.0075</td>\n",
       "      <td>-0.002464</td>\n",
       "      <td>0.002464</td>\n",
       "      <td>0.003007</td>\n",
       "      <td>0.003007</td>\n",
       "      <td>0.000000</td>\n",
       "    </tr>\n",
       "  </tbody>\n",
       "</table>\n",
       "<p>175 rows × 7 columns</p>\n",
       "</div>"
      ],
      "text/plain": [
       "          e      de      rate  rate_err     total    model0    model1\n",
       "0    4.5100  0.0100  0.018456  0.006395  0.004903  0.004756  0.000147\n",
       "1    4.5300  0.0100  0.011073  0.005222  0.004947  0.004762  0.000185\n",
       "2    4.5500  0.0100  0.016611  0.006123  0.004996  0.004768  0.000228\n",
       "3    4.5700  0.0100  0.014767  0.005221  0.005049  0.004775  0.000274\n",
       "4    4.5900  0.0100  0.007383  0.003692  0.005100  0.004782  0.000318\n",
       "..      ...     ...       ...       ...       ...       ...       ...\n",
       "170  7.9100  0.0100  0.001846  0.001846  0.003077  0.003077  0.000000\n",
       "171  7.9300  0.0100  0.003689  0.003693  0.003058  0.003058  0.000000\n",
       "172  7.9500  0.0100  0.000000  0.000000  0.003039  0.003039  0.000000\n",
       "173  7.9700  0.0100 -0.001848  0.001848  0.003022  0.003022  0.000000\n",
       "174  7.9875  0.0075 -0.002464  0.002464  0.003007  0.003007  0.000000\n",
       "\n",
       "[175 rows x 7 columns]"
      ]
     },
     "execution_count": 12,
     "metadata": {},
     "output_type": "execute_result"
    }
   ],
   "source": [
    "#\n",
    "names = ['e','de','rate','rate_err','total']\n",
    "for j in range(ncomp):\n",
    "    names.append(f'model{j}')\n",
    "#print (names)\n",
    "df = pd.read_table('specfit.qdp',skiprows=3,names=names, delimiter=' ')\n",
    "df"
   ]
  },
  {
   "cell_type": "code",
   "execution_count": 13,
   "metadata": {},
   "outputs": [
    {
     "data": {
      "image/png": "[encoded data removed]",
      "text/plain": [
       "<Figure size 720x432 with 1 Axes>"
      ]
     },
     "metadata": {},
     "output_type": "display_data"
    }
   ],
   "source": [
    "fig, ax = plt.subplots(figsize=(10,6))\n",
    "# # Plot using Matplotlib:\n",
    "ax.errorbar(df.e, df.rate, xerr=df.de,yerr=df.rate_err,fmt='o-',label='data')\n",
    "ax.plot(df.e, df.total, color='red',label='Total model',linewidth=3)\n",
    "for j in range(ncomp):\n",
    "    ax.plot(df.e, df[f'model{j}'],label=f'{model.componentNames[j]}')\n",
    "#ax.plot(x, y)\n",
    "ax.set_xlabel('Energy (keV)')\n",
    "ax.set_ylabel(r'counts/s/keV')\n",
    "ax.set_xscale(\"linear\")\n",
    "ax.set_yscale(\"linear\")\n",
    "ax.set_ylim((0.001,0.1))\n",
    "ax.grid()\n",
    "ax.legend()\n",
    "plt.show();\n",
    "#"
   ]
  },
  {
   "cell_type": "code",
   "execution_count": 14,
   "metadata": {},
   "outputs": [
    {
     "name": "stdout",
     "output_type": "stream",
     "text": [
      "Plot command list is now empty\n"
     ]
    }
   ],
   "source": [
    "#\n",
    "# clear all, data, plot commands and close the logfile\n",
    "#\n",
    "s = None\n",
    "xspec.Plot.commands = ()\n",
    "xspec.AllData.clear()\n",
    "xspec.Xset.closeLog()"
   ]
  },
  {
   "cell_type": "code",
   "execution_count": null,
   "metadata": {},
   "outputs": [],
   "source": []
  }
 ],
 "metadata": {
  "kernelspec": {
   "display_name": "Python 3",
   "language": "python",
   "name": "python3"
  },
  "language_info": {
   "codemirror_mode": {
    "name": "ipython",
    "version": 3
   },
   "file_extension": ".py",
   "mimetype": "text/x-python",
   "name": "python",
   "nbconvert_exporter": "python",
   "pygments_lexer": "ipython3",
   "version": "3.8.8"
  }
 },
 "nbformat": 4,
 "nbformat_minor": 4
}
